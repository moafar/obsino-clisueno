{
 "cells": [
  {
   "cell_type": "code",
   "execution_count": null,
   "id": "84b991e7",
   "metadata": {},
   "outputs": [
    {
     "ename": "",
     "evalue": "",
     "output_type": "error",
     "traceback": [
      "\u001b[1;31mRunning cells with 'Python 3.12.3' requires the ipykernel package.\n",
      "\u001b[1;31mInstall 'ipykernel' into the Python environment. \n",
      "\u001b[1;31mCommand: '/usr/bin/python3 -m pip install ipykernel -U --user --force-reinstall'"
     ]
    }
   ],
   "source": [
    "carpeta = \"/home/clisueno/output\""
   ]
  },
  {
   "cell_type": "code",
   "execution_count": 2,
   "id": "6f89992f",
   "metadata": {},
   "outputs": [
    {
     "name": "stdout",
     "output_type": "stream",
     "text": [
      "Se detectaron 2 archivos CSV \n",
      "--------------------------------------------------\n",
      "Archivo: resultados_psg_rtf.csv | Forma: (260, 41)\n",
      "Archivo: resultados_psg_doc.csv | Forma: (731, 41)\n"
     ]
    },
    {
     "data": {
      "text/html": [
       "<table border='1'><tr><th>Archivo</th><th>Columnas Faltantes</th><th>Columnas Sobrantes</th></tr><tr><td>resultados_psg_rtf.csv</td><td></td><td></td></tr><tr><td>resultados_psg_doc.csv</td><td></td><td></td></tr></table>"
      ],
      "text/plain": [
       "<IPython.core.display.HTML object>"
      ]
     },
     "metadata": {},
     "output_type": "display_data"
    }
   ],
   "source": [
    "import os\n",
    "import pandas as pd\n",
    "import glob\n",
    "from IPython.display import display, HTML\n",
    "import uuid\n",
    "\n",
    "# Función que recorre la carpeta y analiza los archivos CSV para comparar estructura\n",
    "def analizar_csv(carpeta):\n",
    "    # Buscar todos los archivos CSV en la carpeta\n",
    "    archivos_csv = glob.glob(os.path.join(carpeta, \"*.csv\"))\n",
    "    \n",
    "    if not archivos_csv:\n",
    "        print(\"No se encontraron archivos CSV en la carpeta.\")\n",
    "        return\n",
    "    \n",
    "    print(f\"Se detectaron {len(archivos_csv)} archivos CSV \")\n",
    "    print(\"-\"*50)\n",
    "    \n",
    "    # Diccionario para almacenar los nombres de las columnas de cada archivo\n",
    "    columnas_por_archivo = {}\n",
    "    \n",
    "    # Recorrer cada archivo CSV\n",
    "    for archivo in archivos_csv:\n",
    "        # Leer el archivo CSV en un DataFrame\n",
    "        df = pd.read_csv(archivo)\n",
    "        \n",
    "        # Guardar el nombre del archivo y la forma del DataFrame\n",
    "        columnas_por_archivo[archivo] = {\n",
    "            'columnas': set(df.columns),  # Convertir a set para evitar duplicados\n",
    "            'forma': df.shape\n",
    "        }\n",
    "        \n",
    "        # Imprimir la forma de cada archivo\n",
    "        print(f\"Archivo: {os.path.basename(archivo)} | Forma: {df.shape}\")\n",
    "    \n",
    "    # Comparar las columnas entre todos los archivos\n",
    "    todas_las_columnas = set().union(*[data['columnas'] for data in columnas_por_archivo.values()])\n",
    "    \n",
    "    # Preparar un resumen con las columnas faltantes o sobrantes\n",
    "    resumen = {}\n",
    "    \n",
    "    for archivo, data in columnas_por_archivo.items():\n",
    "        archivo_columnas = data['columnas']\n",
    "        columnas_faltantes = todas_las_columnas - archivo_columnas\n",
    "        columnas_sobrantes = archivo_columnas - todas_las_columnas\n",
    "        resumen[archivo] = {\n",
    "            'columnas_faltantes': list(columnas_faltantes),\n",
    "            'columnas_sobrantes': list(columnas_sobrantes)\n",
    "        }\n",
    "    \n",
    "    # Crear una tabla HTML con el resumen\n",
    "    html_table = \"<table border='1'><tr><th>Archivo</th><th>Columnas Faltantes</th><th>Columnas Sobrantes</th></tr>\"\n",
    "    \n",
    "    for archivo, data in resumen.items():\n",
    "        html_table += f\"<tr><td>{os.path.basename(archivo)}</td>\"\n",
    "        html_table += f\"<td>{', '.join(data['columnas_faltantes'])}</td>\"\n",
    "        html_table += f\"<td>{', '.join(data['columnas_sobrantes'])}</td></tr>\"\n",
    "    \n",
    "    html_table += \"</table>\"\n",
    "    \n",
    "    # Mostrar el HTML en pantalla\n",
    "    display(HTML(html_table))\n",
    "\n",
    "# Llamar a la función para analizar si las estructuras se corresponden\n",
    "analizar_csv(carpeta)"
   ]
  },
  {
   "cell_type": "code",
   "execution_count": 3,
   "id": "ed268edd",
   "metadata": {},
   "outputs": [
    {
     "name": "stdout",
     "output_type": "stream",
     "text": [
      "Archivo base: resultados_psg_rtf.csv\n",
      "\n",
      "Archivo base: /home/clisueno/output/resultados_psg_rtf.csv con forma (260, 41)\n",
      "----------------------------------------------------------------------------------------------------\n",
      "\n",
      "Procesando... /home/clisueno/output/resultados_psg_rtf.csv con forma (260, 41)\n",
      "  .... ok\n",
      "\n",
      "Procesando... /home/clisueno/output/resultados_psg_doc.csv con forma (731, 41)\n",
      "  .... ok\n",
      "\n",
      "----------------------------------------------------------------------------------------------------\n",
      "Se procesaron 2 archivos CSV con la misma estructura.\n"
     ]
    }
   ],
   "source": [
    "archivos_csv = glob.glob(os.path.join(carpeta, \"*.csv\"))\n",
    "\n",
    "# Leer el primer archivo CSV para obtener las columnas\n",
    "archivo_base = os.path.join(carpeta, archivos_csv[0])\n",
    "df_base = pd.read_csv(archivo_base)\n",
    "columnas_base = set(df_base.columns)\n",
    "print(f\"Archivo base: {os.path.basename(archivo_base)}\")\n",
    "print()\n",
    "\n",
    "print(f\"Archivo base: {archivo_base} con forma {df_base.shape}\")\n",
    "print(\"-\"*100)\n",
    "dfs = []\n",
    "# Comparar con los demás archivos CSV\n",
    "for archivo in archivos_csv:\n",
    "    archivo_actual = os.path.join(carpeta, archivo)\n",
    "    df_actual = pd.read_csv(archivo_actual)\n",
    "    columnas_actual = set(df_actual.columns)\n",
    "    print(f\"\\nProcesando... {archivo} con forma {df_actual.shape}\")\n",
    "    \n",
    "    if columnas_base != columnas_actual:\n",
    "        print(f\"  .... ERROR:\")\n",
    "\n",
    "        diferencias_base = columnas_base - columnas_actual\n",
    "        diferencias_actual = columnas_actual - columnas_base\n",
    "        \n",
    "        if diferencias_base:\n",
    "            print(f\" - Faltan columnas: {diferencias_base}\")\n",
    "        if diferencias_actual:\n",
    "            print(f\" - Columnas adicionales: {diferencias_actual}\")\n",
    "    print(\"  .... ok\")\n",
    "\n",
    "    # Agregar la columna con el nombre del archivo de procedencia\n",
    "    #df_actual['fuente'] = archivo\n",
    "\n",
    "    # Agregar el DataFrame a la lista\n",
    "    dfs.append(df_actual)\n",
    "print()\n",
    "print(\"-\"*100)\n",
    "print(f\"Se procesaron {len(dfs)} archivos CSV con la misma estructura.\")\n"
   ]
  },
  {
   "cell_type": "code",
   "execution_count": 4,
   "id": "62ae126e",
   "metadata": {},
   "outputs": [
    {
     "name": "stdout",
     "output_type": "stream",
     "text": [
      "Se ha combinado el DataFrame.  EL nuevo DataFrame tiene forma:  (991, 41)\n",
      "\n",
      "El DataFrame unificado se ha guardado en /home/clisueno/output/unificado.csv con forma (991, 42)\n"
     ]
    }
   ],
   "source": [
    "# Concatenar todos los DataFrames en uno solo\n",
    "df_unificado = pd.concat(dfs, ignore_index=True)\n",
    "print(\"Se ha combinado el DataFrame.  EL nuevo DataFrame tiene forma: \", df_unificado.shape)\n",
    "print()\n",
    "\n",
    "archivo_salida = os.path.join(carpeta, \"unificado.csv\")\n",
    "\n",
    "# Exportar el DataFrame unificado a un archivo CSV\n",
    "df_unificado[\"uuid\"] = [str(uuid.uuid4()) for _ in range(len(df_unificado))]\n",
    "df_unificado.to_csv(archivo_salida, index=False)\n",
    "print(f\"El DataFrame unificado se ha guardado en {archivo_salida} con forma {df_unificado.shape}\")"
   ]
  },
  {
   "cell_type": "code",
   "execution_count": null,
   "id": "057298e9",
   "metadata": {},
   "outputs": [],
   "source": []
  }
 ],
 "metadata": {
  "kernelspec": {
   "display_name": "Python 3",
   "language": "python",
   "name": "python3"
  },
  "language_info": {
   "codemirror_mode": {
    "name": "ipython",
    "version": 3
   },
   "file_extension": ".py",
   "mimetype": "text/x-python",
   "name": "python",
   "nbconvert_exporter": "python",
   "pygments_lexer": "ipython3",
   "version": "3.12.3"
  }
 },
 "nbformat": 4,
 "nbformat_minor": 5
}
